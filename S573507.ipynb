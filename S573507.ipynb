{
 "cells": [
  {
   "cell_type": "markdown",
   "metadata": {},
   "source": [
    "### Student Name: Brett"
   ]
  },
  {
   "cell_type": "code",
   "execution_count": 22,
   "metadata": {},
   "outputs": [
    {
     "name": "stdout",
     "output_type": "stream",
     "text": [
      "*      *\n",
      "**    **\n",
      "***  ***\n",
      "********\n"
     ]
    }
   ],
   "source": [
    "# Solution 1\n",
    "levels = 4\n",
    "for i in range(levels):\n",
    "    if i == 0:\n",
    "        print(\"*      *\")\n",
    "    if i == 1:\n",
    "        print(\"**    **\")    \n",
    "    if i == 2:\n",
    "        print(\"***  ***\")\n",
    "    if i == 3:\n",
    "        print(\"********\")"
   ]
  },
  {
   "cell_type": "code",
   "execution_count": 23,
   "metadata": {},
   "outputs": [
    {
     "name": "stdout",
     "output_type": "stream",
     "text": [
      "*      *\n",
      "**    **\n",
      "***  ***\n",
      "********\n"
     ]
    }
   ],
   "source": [
    "# Solution 2\n",
    "levels = 4\n",
    "char = '*'\n",
    "\n",
    "for i in range(1, levels + 1):\n",
    "    print(char * i, end=''), print(' ' * (2 * (levels - i)), end=''), print(char * i)"
   ]
  }
 ],
 "metadata": {
  "kernelspec": {
   "display_name": "Python 3",
   "language": "python",
   "name": "python3"
  },
  "language_info": {
   "codemirror_mode": {
    "name": "ipython",
    "version": 3
   },
   "file_extension": ".py",
   "mimetype": "text/x-python",
   "name": "python",
   "nbconvert_exporter": "python",
   "pygments_lexer": "ipython3",
   "version": "3.12.1"
  }
 },
 "nbformat": 4,
 "nbformat_minor": 2
}
